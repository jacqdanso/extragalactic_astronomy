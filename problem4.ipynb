{
 "cells": [
  {
   "cell_type": "code",
   "execution_count": 48,
   "metadata": {
    "collapsed": true
   },
   "outputs": [],
   "source": [
    "import cosmology as cos\n",
    "import numpy as np\n",
    "import matplotlib.pyplot as plt\n",
    "from astropy.cosmology import FlatLambdaCDM\n",
    "import seaborn as sea\n",
    "%matplotlib inline"
   ]
  },
  {
   "cell_type": "code",
   "execution_count": 49,
   "metadata": {
    "collapsed": true
   },
   "outputs": [],
   "source": [
    "# set plotting parameters\n",
    "plt.rc('text', usetex=True)\n",
    "sea.set(style='white')\n",
    "sea.set(style='ticks')\n",
    "sea.set_style({'xtick.direct'\n",
    "               'ion': 'in','xtick.top':True,'xtick.minor.visible': True,\n",
    "               'ytick.direction': \"in\",'ytick.right': True,'ytick.minor.visible': True})"
   ]
  },
  {
   "cell_type": "markdown",
   "metadata": {},
   "source": [
    "## Part 4 (a)"
   ]
  },
  {
   "cell_type": "code",
   "execution_count": 50,
   "metadata": {
    "collapsed": true
   },
   "outputs": [],
   "source": [
    "# given cosmological parameters\n",
    "z = 4.25\n",
    "h = 0.70\n",
    "omega_matter = 0.27\n",
    "omega_lambda = 0.73\n",
    "H0 = 100*h"
   ]
  },
  {
   "cell_type": "code",
   "execution_count": 51,
   "metadata": {
    "collapsed": true
   },
   "outputs": [],
   "source": [
    "model = FlatLambdaCDM(H0, omega_matter) \n",
    "\n",
    "def vel_now(redshift):\n",
    "    return model.H0 * model.comoving_distance(redshift)"
   ]
  },
  {
   "cell_type": "code",
   "execution_count": 52,
   "metadata": {},
   "outputs": [
    {
     "data": {
      "text/latex": [
       "$2.7880043 \\times 10^{8} \\; \\mathrm{\\frac{m}{s}}$"
      ],
      "text/plain": [
       "<Quantity 2.78800426e+08 m / s>"
      ]
     },
     "execution_count": 52,
     "metadata": {},
     "output_type": "execute_result"
    }
   ],
   "source": [
    "cos.recession_velocity(z)"
   ]
  },
  {
   "cell_type": "code",
   "execution_count": 53,
   "metadata": {},
   "outputs": [
    {
     "data": {
      "text/latex": [
       "$531097.96 \\; \\mathrm{\\frac{km}{s}}$"
      ],
      "text/plain": [
       "<Quantity 531097.96263321 km / s>"
      ]
     },
     "execution_count": 53,
     "metadata": {},
     "output_type": "execute_result"
    }
   ],
   "source": [
    "vel_now(z)"
   ]
  },
  {
   "cell_type": "code",
   "execution_count": 54,
   "metadata": {
    "collapsed": true
   },
   "outputs": [],
   "source": [
    "redshifts = np.linspace(0.0000001, 11.09, num=1000) # can't start at 0, because it'll result in infinity\n",
    "ratio = vel_now(redshifts)/(cos.recession_velocity(redshifts)*10**(-3))"
   ]
  },
  {
   "cell_type": "markdown",
   "metadata": {},
   "source": [
    "##### Let's take a look at the discrepancy between my value and the astropy value as a function of redshift. "
   ]
  },
  {
   "cell_type": "code",
   "execution_count": 55,
   "metadata": {},
   "outputs": [
    {
     "data": {
      "image/png": "[encoded data removed]",
      "text/plain": [
       "<matplotlib.figure.Figure at 0x1a1df4ef28>"
      ]
     },
     "metadata": {},
     "output_type": "display_data"
    }
   ],
   "source": [
    "plt.figure(figsize = (10,10))\n",
    "plt.plot(redshifts, ratio)\n",
    "gnz11 = np.where(redshifts == 11.09)\n",
    "ratio_gal = vel_now(z)/(cos.recession_velocity(z)*10**(-3))\n",
    "plt.plot(redshifts[gnz11], ratio[gnz11], 'o', c='red', ms=5)\n",
    "plt.text(redshifts[gnz11]-0.7, ratio[gnz11].value-0.08, 'GN-z11', color='red', fontsize = 15)\n",
    "plt.plot(z, ratio_gal, 'o', c='red', ms=5)\n",
    "plt.text(z+0.15, ratio_gal.value, 'z=4.25 galaxy', color='red', fontsize = 15)\n",
    "plt.rc('axes', labelsize=20) \n",
    "plt.xlabel('Cosmological Redshift')\n",
    "plt.ylabel(r\"$\\frac{v_{_{(z)}}}{v_{_{(Dc)}}}$\")\n",
    "plt.savefig('velocity_methods.png')"
   ]
  },
  {
   "cell_type": "markdown",
   "metadata": {},
   "source": [
    "## Part 4 (b)"
   ]
  },
  {
   "cell_type": "code",
   "execution_count": 56,
   "metadata": {
    "collapsed": true
   },
   "outputs": [],
   "source": [
    "term1 = (2/3)*(omega_lambda)**(-1/2)\n",
    "term2 = np.log((1+np.sqrt(omega_lambda))/np.sqrt(omega_matter))\n",
    "corr_fac = term1*term2\n",
    "t0 = (1/h)*9.78*corr_fac"
   ]
  },
  {
   "cell_type": "code",
   "execution_count": 57,
   "metadata": {
    "collapsed": true
   },
   "outputs": [],
   "source": [
    "astropy_tl = model.lookback_time(z)\n",
    "astropy_age = t0 - astropy_tl.value"
   ]
  },
  {
   "cell_type": "code",
   "execution_count": 58,
   "metadata": {
    "collapsed": true
   },
   "outputs": [],
   "source": [
    "redshifts = np.linspace(0, 4.25, num=100)\n",
    "my_tl = cos.t_lookback(H0, omega_matter, omega_lambda, z)\n",
    "my_age = t0 - my_tl"
   ]
  },
  {
   "cell_type": "code",
   "execution_count": 59,
   "metadata": {},
   "outputs": [
    {
     "name": "stdout",
     "output_type": "stream",
     "text": [
      "Astropy age (in Gyr): 1.488174748352579\n",
      "Age from Gaussian quad (in Gyr): [ 0.76713638 13.86925375]\n"
     ]
    }
   ],
   "source": [
    "print('Astropy age (in Gyr):', astropy_age)\n",
    "print('Age from Gaussian quad (in Gyr):', my_age)"
   ]
  },
  {
   "cell_type": "markdown",
   "metadata": {},
   "source": [
    "It appears there's something wrong with my code, because the uncertainty is large, and increasing the number of sampling points has no effect on the result. Don't have time to fix it, so I'll use the result from Mathematica, which does something similar to Gaussian quadrature.  "
   ]
  },
  {
   "cell_type": "code",
   "execution_count": 60,
   "metadata": {
    "collapsed": true
   },
   "outputs": [],
   "source": [
    "integral = 0.88636"
   ]
  },
  {
   "cell_type": "code",
   "execution_count": 61,
   "metadata": {
    "collapsed": true
   },
   "outputs": [],
   "source": [
    "my_tl = (100/H0)*9.78*integral"
   ]
  },
  {
   "cell_type": "code",
   "execution_count": 62,
   "metadata": {},
   "outputs": [
    {
     "name": "stdout",
     "output_type": "stream",
     "text": [
      "Age from Mathematica (in Gyr): 1.4855383270249014\n"
     ]
    }
   ],
   "source": [
    "print('Age from Mathematica (in Gyr):', t0-my_tl)"
   ]
  },
  {
   "cell_type": "markdown",
   "metadata": {},
   "source": [
    "## Part 4 (c)"
   ]
  },
  {
   "cell_type": "code",
   "execution_count": 63,
   "metadata": {},
   "outputs": [
    {
     "name": "stdout",
     "output_type": "stream",
     "text": [
      "D: 0.24977927467836344\n"
     ]
    }
   ],
   "source": [
    "from scipy.integrate import quad\n",
    "func = lambda z: (1+z) / model.H(z).value**3\n",
    "# find the constant of proportionality \n",
    "const = 1/quad(func, 0, np.inf)[0]\n",
    "integral = quad(func, z, np.inf)[0]\n",
    "print('D:', model.H(z)/model.H0 * const * integral)"
   ]
  },
  {
   "cell_type": "code",
   "execution_count": 64,
   "metadata": {},
   "outputs": [],
   "source": [
    "# repeat for Einstein-de-Sitter \n",
    "omega_m = 1\n",
    "omega_l = 0\n",
    "h = 0.5\n",
    "H0 = 100*h\n",
    "model1 = FlatLambdaCDM(H0, omega_m)"
   ]
  },
  {
   "cell_type": "code",
   "execution_count": 65,
   "metadata": {},
   "outputs": [
    {
     "name": "stdout",
     "output_type": "stream",
     "text": [
      "D: 0.19047576679988082\n"
     ]
    }
   ],
   "source": [
    "func = lambda z: (1+z) / model1.H(z).value**3\n",
    "# find the constant of proportionality \n",
    "const = 1/quad(func, 0, np.inf)[0]\n",
    "integral = quad(func, z, np.inf)[0]\n",
    "print('D:', model1.H(z)/model1.H0 * const * integral)"
   ]
  },
  {
   "cell_type": "markdown",
   "metadata": {},
   "source": [
    "## Part 4 (d)"
   ]
  },
  {
   "cell_type": "code",
   "execution_count": 66,
   "metadata": {},
   "outputs": [
    {
     "name": "stdout",
     "output_type": "stream",
     "text": [
      "Comoving distance: 7587.113751902942 Mpc\n"
     ]
    }
   ],
   "source": [
    "print(\"Comoving distance:\", model.comoving_distance(z))"
   ]
  },
  {
   "cell_type": "markdown",
   "metadata": {},
   "source": [
    "## Part 4 (e)"
   ]
  },
  {
   "cell_type": "code",
   "execution_count": 67,
   "metadata": {},
   "outputs": [
    {
     "name": "stdout",
     "output_type": "stream",
     "text": [
      "Light travel distance: 3796.056080219697 Mpc\n"
     ]
    }
   ],
   "source": [
    "print(\"Light travel distance:\", model.lookback_distance(z))"
   ]
  },
  {
   "cell_type": "markdown",
   "metadata": {},
   "source": [
    "## Part 4 (f)"
   ]
  },
  {
   "cell_type": "code",
   "execution_count": 68,
   "metadata": {},
   "outputs": [
    {
     "name": "stdout",
     "output_type": "stream",
     "text": [
      "Luminosity distance: 39832.347197490446 Mpc\n"
     ]
    }
   ],
   "source": [
    "print(\"Luminosity distance:\", model.luminosity_distance(z))"
   ]
  },
  {
   "cell_type": "markdown",
   "metadata": {},
   "source": [
    "## Part 4 (g)"
   ]
  },
  {
   "cell_type": "code",
   "execution_count": 76,
   "metadata": {},
   "outputs": [
    {
     "name": "stdout",
     "output_type": "stream",
     "text": [
      "Angular diameter distance: 1445.164524171989 Mpc\n",
      "Physical size (in kpc): 7.0063487463796035\n"
     ]
    }
   ],
   "source": [
    "da = model.angular_diameter_distance(z)\n",
    "print(\"Angular diameter distance:\", da)\n",
    "rad_to_arcsec = 206265\n",
    "actual_size = da.value*(10**3/rad_to_arcsec)\n",
    "print(\"Physical size (in kpc):\", actual_size)"
   ]
  },
  {
   "cell_type": "markdown",
   "metadata": {},
   "source": [
    "## Part 4 (h)"
   ]
  },
  {
   "cell_type": "code",
   "execution_count": 81,
   "metadata": {},
   "outputs": [
    {
     "name": "stdout",
     "output_type": "stream",
     "text": [
      "Angular diameter distance: 1786.7937786626903 Mpc\n",
      "Angular size at z = 1.5 (in arcseconds): 0.8088031990203196\n"
     ]
    }
   ],
   "source": [
    "da = model.angular_diameter_distance(1.5)\n",
    "print(\"Angular diameter distance:\", da)\n",
    "print(\"Angular size at z = 1.5 (in arcseconds):\", actual_size*rad_to_arcsec/(da.value*10**(3)))"
   ]
  }
 ],
 "metadata": {
  "kernelspec": {
   "display_name": "Python 3",
   "language": "python",
   "name": "python3"
  },
  "language_info": {
   "codemirror_mode": {
    "name": "ipython",
    "version": 3
   },
   "file_extension": ".py",
   "mimetype": "text/x-python",
   "name": "python",
   "nbconvert_exporter": "python",
   "pygments_lexer": "ipython3",
   "version": "3.6.3"
  }
 },
 "nbformat": 4,
 "nbformat_minor": 2
}
